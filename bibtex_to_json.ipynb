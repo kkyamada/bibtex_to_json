{
 "metadata": {
  "language_info": {
   "codemirror_mode": {
    "name": "ipython",
    "version": 3
   },
   "file_extension": ".py",
   "mimetype": "text/x-python",
   "name": "python",
   "nbconvert_exporter": "python",
   "pygments_lexer": "ipython3",
   "version": "3.8.2-final"
  },
  "orig_nbformat": 2,
  "kernelspec": {
   "name": "python3",
   "display_name": "Python 3.8.2 64-bit ('venv_vsgeneral')",
   "metadata": {
    "interpreter": {
     "hash": "2cbf4a8bf0a3f5fc28d4655bede1b342f7445afe80b07986865b80f6838d4995"
    }
   }
  }
 },
 "nbformat": 4,
 "nbformat_minor": 2,
 "cells": [
  {
   "cell_type": "code",
   "execution_count": 6,
   "metadata": {},
   "outputs": [
    {
     "output_type": "stream",
     "name": "stdout",
     "text": [
      "YOUR/Current/directory\n"
     ]
    }
   ],
   "source": [
    "import re\n",
    "import os\n",
    "current_dir = os.getcwd()\n",
    "print(current_dir)"
   ]
  },
  {
   "cell_type": "code",
   "execution_count": 8,
   "metadata": {},
   "outputs": [
    {
     "output_type": "stream",
     "name": "stdout",
     "text": [
      "importing papers from : YOUR/Current/directory/bibtex_in.bib\nnumber of papers being imported: 4\n"
     ]
    }
   ],
   "source": [
    "INPUT_FILE = \"bibtex_in.bib\"\n",
    "OUTPUT_FILE = \"bibtex_out.json\"\n",
    "\n",
    "json_file = []\n",
    "# jsonファイルの書き出し\n",
    "LINES_BEGIN = ['{', '\"pages\": [']\n",
    "json_file.extend(LINES_BEGIN)\n",
    "# jsonファイルの書き終わり\n",
    "LINES_END = [']', '}']\n",
    "# 各Scrapboxページの書き出し\n",
    "PAGE_PREFIX = []\n",
    "# 各Scrapboxページの書き終わり\n",
    "PAGE_SUFFIX = [\"[* Tag:]\", \"#read2021 #read202103\"]\n",
    "\n",
    "# 全ての要素から取り除く文字列(正規表現)\n",
    "REMOVE_FROM_ALL = '[\"\\{\\}\\[\\]]'\n",
    "# 外部リンク(https)を含む要素から取り除く文字列(正規表現)\n",
    "REMOVE_FROM_LINK = '[\"\\[\\]]'\n",
    "REPLACE_IN_LINK = '[\\{\\}]'\n",
    "# 論文タイトルから取り除く文字列(正規表現)\n",
    "REMOVE_FROM_TITLE = \"[\\{\\}]\"\n",
    "# Scrapbox上でリンク化したいもの\n",
    "LINK_ITEMS = [\"author\", \"journal\", \"archivePrefix\", \"year\"]\n",
    "# jsonファイルでエスケープが必要なもの\n",
    "# JSON_ESCAPE = ['\\\\','\"', '/', '\\b', '\\f', '\\n', '\\r', '\\t', '\\a']\n",
    "JSON_ESCAPE = {'\\\\':'\\\\\\\\','\"':'\\\"', '\\b':'\\\\b', '\\f':'\\\\f', '\\n':'\\\\n', '\\r':'\\\\r', '\\t':'\\\\t', '\\a':'\\\\a'}\n",
    "\n",
    "path = os.path.join(current_dir, INPUT_FILE)\n",
    "print(\"importing papers from : {}\".format(path))\n",
    "\n",
    "lines = []\n",
    "with open(path, 'r') as f:\n",
    "    lines = f.readlines()\n",
    "\n",
    "papers = []\n",
    "new_paper = \"\"\n",
    "for num_line, line in enumerate(lines):\n",
    "    if line[0] == \"@\":\n",
    "        if len(new_paper) > 0:\n",
    "            papers.append(new_paper)\n",
    "        new_paper = line.strip()\n",
    "    elif num_line == len(lines)-1:\n",
    "        new_paper += line.strip()\n",
    "        papers.append(new_paper)\n",
    "    else:\n",
    "        if not len(new_paper)==0:\n",
    "            new_paper += line.strip() + \" \"\n",
    "    \n",
    "\n",
    "print(\"number of papers being imported: {}\".format(len(papers)))"
   ]
  },
  {
   "cell_type": "code",
   "execution_count": 10,
   "metadata": {},
   "outputs": [
    {
     "output_type": "stream",
     "name": "stdout",
     "text": [
      "exporting the json file to : YOUR/Current/directory/bibtex_out.json\ndone\n"
     ]
    }
   ],
   "source": [
    "for num_paper, paper in enumerate(papers):\n",
    "    paper_converted = []\n",
    "    item = re.search(\",[\\d\\s\\w]+=\", paper)\n",
    "    item_label = paper[item.start()+1:item.end()-1].strip()\n",
    "    paper_converted.append(paper[:item.start()])\n",
    "    paper = paper[item.end():].strip()\n",
    "\n",
    "    \n",
    "    last_flg = 0\n",
    "    title = \"\"\n",
    "    while re.search(\",[\\d\\s\\w]+=\", paper) or last_flg == 1:\n",
    "\n",
    "        item = re.search(\",[\\d\\s\\w]+=\", paper)\n",
    "        if item:\n",
    "            item_sequence = paper[:item.start()]\n",
    "        elif last_flg==1:\n",
    "            item_sequence = paper.strip()[:-1].strip()\n",
    "        else:\n",
    "            assert False\n",
    "        \n",
    "        if \"https\" in item_sequence:\n",
    "            item_sequence = re.sub(REMOVE_FROM_LINK, \"\", item_sequence)\n",
    "            item_sequence = re.sub(REPLACE_IN_LINK, \" \", item_sequence)\n",
    "        else:\n",
    "            item_sequence = re.sub(REMOVE_FROM_ALL, \"\", item_sequence)\n",
    "\n",
    "\n",
    "        # 論文タイトル\n",
    "        if item_label.lower() == \"title\":\n",
    "            item_sequence = re.sub(REMOVE_FROM_TITLE, \"\", item_sequence)\n",
    "            title = item_sequence\n",
    "\n",
    "        # 著者\n",
    "        if item_label.lower() == \"author\":\n",
    "            author_names = re.split(\" and \", item_sequence)\n",
    "            if \"author\" in LINK_ITEMS:\n",
    "                for i, author_name in enumerate(author_names):\n",
    "                    #if i==0 or i==-1:\n",
    "                    #    author_name = re.sub('\"', '', author_name)\n",
    "                    author_names[i] = \"[\" + author_name + \"]\"\n",
    "            item_sequence = \" and \".join(author_names)\n",
    "\n",
    "        # その他Scrapboxでリンク化するもの\n",
    "        if item_label.lower() in LINK_ITEMS and not item_label.lower() == \"author\":\n",
    "            item_sequence = \"[\" + item_sequence + \"]\"\n",
    "        \n",
    "        # エスケープ記号を追加\n",
    "        for escape in JSON_ESCAPE.keys():\n",
    "            if escape in item_sequence:\n",
    "                item_sequence = list(item_sequence)\n",
    "                for index, character in enumerate(item_sequence):\n",
    "                    if character in JSON_ESCAPE.keys():\n",
    "                        item_sequence[index] = JSON_ESCAPE[character]\n",
    "                item_sequence = \"\".join(item_sequence)\n",
    "            if escape in item_label:\n",
    "                item_label = list(item_label)\n",
    "                for index, character in enumerate(item_label):\n",
    "                    if character in JSON_ESCAPE.keys():\n",
    "                        item_label[index] = JSON_ESCAPE[character]\n",
    "                item_label = \"\".join(item_label)\n",
    "\n",
    "        # 保存\n",
    "        paper_converted.append(item_label + \"\\\\t= \" + item_sequence)\n",
    "\n",
    "        if item:\n",
    "            item_label = paper[item.start()+1:item.end()-1].strip()\n",
    "            paper = paper[item.end():].strip()\n",
    "\n",
    "        if not re.search(\",[\\d\\s\\w]+=\", paper) and last_flg==0:\n",
    "            last_flg = 1\n",
    "        elif last_flg == 1:\n",
    "            last_flg = 0\n",
    "\n",
    "    # タイトルにエスケープ記号を追加\n",
    "    for escape in JSON_ESCAPE.keys():\n",
    "        if escape in title:\n",
    "            title = list(title)\n",
    "            for index, character in enumerate(title):\n",
    "                if character in JSON_ESCAPE.keys():\n",
    "                    title[index] = JSON_ESCAPE[character]\n",
    "            title = \"\".join(title)\n",
    "\n",
    "    # paperごとにjson_fileへ追加\n",
    "    json_file.append('{')\n",
    "    json_file.append('\"title\": \"{}\",'.format(title))\n",
    "    json_file.append('\"lines\": [')\n",
    "    json_file.append('\"{}\",'.format(title)) #一行目は必ずタイトルと一致\n",
    "    for prefix in PAGE_PREFIX:\n",
    "        json_file.append('\"{}\",'.format(prefix))\n",
    "    for line in paper_converted:\n",
    "        json_file.append('\"{}\",'.format(line))\n",
    "    json_file.append('\"}\",')\n",
    "    for suffix in PAGE_SUFFIX:\n",
    "        json_file.append('\"{}\",'.format(suffix))\n",
    "    json_file[-1] = json_file[-1][:-1] #最後の行のカンマを除去\n",
    "    json_file.append(']')\n",
    "    if num_paper == len(papers)-1:\n",
    "        json_file.append('}')\n",
    "    else:\n",
    "        json_file.append('},')\n",
    "\n",
    "json_file.extend(LINES_END)\n",
    "path_new = os.path.join(current_dir, OUTPUT_FILE)\n",
    "with open(path_new, 'w') as f:\n",
    "    f.write(\"\\n\".join(json_file))\n",
    "print(\"exporting the json file to : {}\".format(path_new))\n",
    "print(\"done\")"
   ]
  },
  {
   "cell_type": "code",
   "execution_count": null,
   "metadata": {},
   "outputs": [],
   "source": []
  }
 ]
}